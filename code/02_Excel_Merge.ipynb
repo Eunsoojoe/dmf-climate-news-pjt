{
 "cells": [
  {
   "cell_type": "code",
   "execution_count": 2,
   "id": "2f888e0e-edac-4777-928c-02a415145862",
   "metadata": {},
   "outputs": [],
   "source": [
    "import os\n",
    "import time\n",
    "import pandas as pd\n",
    "from glob import glob\n",
    "from tqdm.notebook import tqdm"
   ]
  },
  {
   "cell_type": "code",
   "execution_count": 3,
   "id": "e73d0a98-f404-4fd5-8677-734a7690df2e",
   "metadata": {},
   "outputs": [
    {
     "data": {
      "text/plain": [
       "'C:\\\\Users\\\\h_j06\\\\Desktop\\\\DMF\\\\crawling\\\\project'"
      ]
     },
     "execution_count": 3,
     "metadata": {},
     "output_type": "execute_result"
    }
   ],
   "source": [
    "# 현재 위치 확인\n",
    "os.getcwd()"
   ]
  },
  {
   "cell_type": "code",
   "execution_count": 4,
   "id": "79fa7c50-860d-4161-a4e9-9a0d10f9816e",
   "metadata": {},
   "outputs": [
    {
     "data": {
      "text/plain": [
       "['.ipynb_checkpoints',\n",
       " '0.excel_merge.ipynb',\n",
       " '1.text_mining.ipynb',\n",
       " '2.visualization.ipynb',\n",
       " '2015to2021_Text_Prep.pkl',\n",
       " 'README.md',\n",
       " 'news.py',\n",
       " '~$기후위기_20150701_to_20210630.xlsx',\n",
       " '기후위기_20150701_to_20210630',\n",
       " '기후위기_20150701_to_20210630.xlsx',\n",
       " '기후위기_20220701_to_20230630',\n",
       " '기후위기_20220701_to_20230630.xlsx',\n",
       " '상위50그래프.png']"
      ]
     },
     "execution_count": 4,
     "metadata": {},
     "output_type": "execute_result"
    }
   ],
   "source": [
    "# 현재 파일 확인\n",
    "sorted(os.listdir())"
   ]
  },
  {
   "cell_type": "code",
   "execution_count": 5,
   "id": "6a7655ff-1e93-440d-9991-ad762be441f9",
   "metadata": {},
   "outputs": [
    {
     "data": {
      "application/vnd.jupyter.widget-view+json": {
       "model_id": "80cd6218caa9430ea49290edc00a8265",
       "version_major": 2,
       "version_minor": 0
      },
      "text/plain": [
       "  0%|          | 0/13 [00:00<?, ?it/s]"
      ]
     },
     "metadata": {},
     "output_type": "display_data"
    }
   ],
   "source": [
    "total = pd.DataFrame() # 반환용, 데이터 저장용도\n",
    "\n",
    "# 반복문 돌리기 위해 전체 파일을 리스트에 담아 가져옴\n",
    "# 현재 작업 경로의 '기후위기_20220701_to_20230630' 폴더에서 '.xlsx'가 있는 모든 파일을 가져옴\n",
    "excel_files = glob('./기후위기_20220701_to_20230630/*.xlsx') \n",
    "\n",
    "for file in tqdm(excel_files):\n",
    "    temp = pd.read_excel(file,header=0) # i 번째 파일을 불러와서 임시로 보관\n",
    "    total = pd.concat([total,temp]) # temp를 반환용 DataFrame에 합쳐줌\n",
    "\n",
    "\n",
    "# index 초기화\n",
    "# drop = True 옵션을 준다면 원래 인덱스를 버린다.\n",
    "total = total.reset_index(drop=True)\n",
    "\n",
    "# title 열을 기준으로 중복된 행 제거\n",
    "total = total.drop_duplicates(subset=['title'])\n",
    "\n",
    "# 엑셀로 내보내는 코드\n",
    "total.to_excel('기후위기_20220701_to_20230630.xlsx', index=False)"
   ]
  },
  {
   "cell_type": "code",
   "execution_count": 8,
   "id": "5b815d4b-99a0-4fd2-b265-609864c409ce",
   "metadata": {},
   "outputs": [
    {
     "data": {
      "text/html": [
       "<div>\n",
       "<style scoped>\n",
       "    .dataframe tbody tr th:only-of-type {\n",
       "        vertical-align: middle;\n",
       "    }\n",
       "\n",
       "    .dataframe tbody tr th {\n",
       "        vertical-align: top;\n",
       "    }\n",
       "\n",
       "    .dataframe thead th {\n",
       "        text-align: right;\n",
       "    }\n",
       "</style>\n",
       "<table border=\"1\" class=\"dataframe\">\n",
       "  <thead>\n",
       "    <tr style=\"text-align: right;\">\n",
       "      <th></th>\n",
       "      <th>date</th>\n",
       "      <th>title</th>\n",
       "      <th>body</th>\n",
       "      <th>link</th>\n",
       "    </tr>\n",
       "    <tr>\n",
       "      <th>media</th>\n",
       "      <th></th>\n",
       "      <th></th>\n",
       "      <th></th>\n",
       "      <th></th>\n",
       "    </tr>\n",
       "  </thead>\n",
       "  <tbody>\n",
       "    <tr>\n",
       "      <th>경향신문</th>\n",
       "      <td>2015.11.13. 오후 8:59</td>\n",
       "      <td>[책과 삶]기후 위기 외면하는 인류에 보낸 ‘리얼 SF’</td>\n",
       "      <td>ㆍ다가올 역사, 서양 문명의 몰락ㆍ나오미 오레스케스 외 지음·홍한별 옮김갈라파고스 ...</td>\n",
       "      <td>https://n.news.naver.com/mnews/article/032/000...</td>\n",
       "    </tr>\n",
       "    <tr>\n",
       "      <th>연합뉴스</th>\n",
       "      <td>2015.11.29. 오전 11:51</td>\n",
       "      <td>'기후위기 극복을 염원' 기자회견</td>\n",
       "      <td>(서울=연합뉴스) 이재희 기자 = 기후행동2015 관계자들이 29일 오전 서울 중구...</td>\n",
       "      <td>https://n.news.naver.com/mnews/article/001/000...</td>\n",
       "    </tr>\n",
       "    <tr>\n",
       "      <th>연합뉴스</th>\n",
       "      <td>2015.11.29. 오전 11:53</td>\n",
       "      <td>'파리총회의 성공과 기후위기 극복을 염원'</td>\n",
       "      <td>(서울=연합뉴스) 이재희 기자 = 기후행동2015 관계자들이 29일 오전 서울 중구...</td>\n",
       "      <td>https://n.news.naver.com/mnews/article/001/000...</td>\n",
       "    </tr>\n",
       "    <tr>\n",
       "      <th>뉴시스</th>\n",
       "      <td>2015.11.29. 오후 12:07</td>\n",
       "      <td>기후위기 극복을 위한 1000인 선언</td>\n",
       "      <td>【서울=뉴시스】조성봉 기자 = 29일 오전 서울 종로구 베스트웨스턴 뉴서울호텔 세미...</td>\n",
       "      <td>https://n.news.naver.com/mnews/article/003/000...</td>\n",
       "    </tr>\n",
       "    <tr>\n",
       "      <th>뉴시스</th>\n",
       "      <td>2015.11.29. 오후 12:07</td>\n",
       "      <td>이부영,' 기후위기 극복을 위해'</td>\n",
       "      <td>【서울=뉴시스】조성봉 기자 = 29일 오전 서울 종로구 베스트웨스턴 뉴서울호텔 세미...</td>\n",
       "      <td>https://n.news.naver.com/mnews/article/003/000...</td>\n",
       "    </tr>\n",
       "  </tbody>\n",
       "</table>\n",
       "</div>"
      ],
      "text/plain": [
       "                       date                            title  \\\n",
       "media                                                          \n",
       "경향신문    2015.11.13. 오후 8:59  [책과 삶]기후 위기 외면하는 인류에 보낸 ‘리얼 SF’   \n",
       "연합뉴스   2015.11.29. 오전 11:51               '기후위기 극복을 염원' 기자회견   \n",
       "연합뉴스   2015.11.29. 오전 11:53          '파리총회의 성공과 기후위기 극복을 염원'   \n",
       "뉴시스    2015.11.29. 오후 12:07             기후위기 극복을 위한 1000인 선언   \n",
       "뉴시스    2015.11.29. 오후 12:07               이부영,' 기후위기 극복을 위해'   \n",
       "\n",
       "                                                    body  \\\n",
       "media                                                      \n",
       "경향신문   ㆍ다가올 역사, 서양 문명의 몰락ㆍ나오미 오레스케스 외 지음·홍한별 옮김갈라파고스 ...   \n",
       "연합뉴스   (서울=연합뉴스) 이재희 기자 = 기후행동2015 관계자들이 29일 오전 서울 중구...   \n",
       "연합뉴스   (서울=연합뉴스) 이재희 기자 = 기후행동2015 관계자들이 29일 오전 서울 중구...   \n",
       "뉴시스    【서울=뉴시스】조성봉 기자 = 29일 오전 서울 종로구 베스트웨스턴 뉴서울호텔 세미...   \n",
       "뉴시스    【서울=뉴시스】조성봉 기자 = 29일 오전 서울 종로구 베스트웨스턴 뉴서울호텔 세미...   \n",
       "\n",
       "                                                    link  \n",
       "media                                                     \n",
       "경향신문   https://n.news.naver.com/mnews/article/032/000...  \n",
       "연합뉴스   https://n.news.naver.com/mnews/article/001/000...  \n",
       "연합뉴스   https://n.news.naver.com/mnews/article/001/000...  \n",
       "뉴시스    https://n.news.naver.com/mnews/article/003/000...  \n",
       "뉴시스    https://n.news.naver.com/mnews/article/003/000...  "
      ]
     },
     "execution_count": 8,
     "metadata": {},
     "output_type": "execute_result"
    }
   ],
   "source": [
    "df = pd.read_excel('기후위기_20150701_to_20210630.xlsx', index_col = 0)\n",
    "df.head()"
   ]
  },
  {
   "cell_type": "markdown",
   "id": "0b87d007-74cf-4677-957c-cdbbdf2676fc",
   "metadata": {},
   "source": [
    "### 언론사명 불용어처리"
   ]
  },
  {
   "cell_type": "code",
   "execution_count": 19,
   "id": "af980bee-f304-4122-a562-ef1b5bb749f4",
   "metadata": {},
   "outputs": [
    {
     "data": {
      "text/plain": [
       "Index(['경향신문', '연합뉴스', '뉴시스', '세계일보', '전자신문', '문화일보', '매경이코노미', 'KBS', '뉴스1',\n",
       "       '프레시안', '조선일보', '오마이뉴스', 'MBC', '국민일보', '미디어오늘', '한겨레', '아시아경제', '중앙일보',\n",
       "       '동아일보', '한국일보', '노컷뉴스', '매일신문', '헤럴드경제', '부산일보', 'YTN', '파이낸셜뉴스',\n",
       "       '데일리안', '머니S', '여성신문', '서울신문', '중앙SUNDAY', '머니투데이', '서울경제', '디지털타임스',\n",
       "       '매일경제', '이데일리', '일다', '시사저널', 'JTBC', '주간경향', '더팩트', 'SBS', '한겨레21',\n",
       "       '스포츠서울', '한국경제TV', '한국경제', '지디넷코리아', '기자협회보', 'TV조선', '연합뉴스TV', '조선비즈',\n",
       "       '스포츠조선', '시사IN', '아이뉴스24', '강원일보', '엑스포츠뉴스', '동아사이언스', '스타뉴스', '한경비즈니스',\n",
       "       'MBN', '마이데일리', 'SBS Biz', '코메디닷컴', '스포츠경향', '디지털데일리', '이코노미스트'],\n",
       "      dtype='object', name='media')"
      ]
     },
     "execution_count": 19,
     "metadata": {},
     "output_type": "execute_result"
    }
   ],
   "source": [
    "df.index.unique()"
   ]
  },
  {
   "cell_type": "code",
   "execution_count": 20,
   "id": "3f8c53ab-0c13-4101-8662-125201823736",
   "metadata": {},
   "outputs": [
    {
     "name": "stdout",
     "output_type": "stream",
     "text": [
      "[('경향신문', 'NNP'), ('연합뉴스', 'NNP'), ('뉴시스', 'NNP'), ('세계일보', 'NNP'), ('전자신문', 'NNP'), ('문화일보', 'NNP'), ('매경이코노미', 'NNP'), ('KBS', 'NNP'), ('뉴스1', 'NNP'), ('프레시안', 'NNP'), ('조선일보', 'NNP'), ('오마이뉴스', 'NNP'), ('MBC', 'NNP'), ('국민일보', 'NNP'), ('미디어오늘', 'NNP'), ('한겨레', 'NNP'), ('아시아경제', 'NNP'), ('중앙일보', 'NNP'), ('동아일보', 'NNP'), ('한국일보', 'NNP'), ('노컷뉴스', 'NNP'), ('매일신문', 'NNP'), ('헤럴드경제', 'NNP'), ('부산일보', 'NNP'), ('YTN', 'NNP'), ('파이낸셜뉴스', 'NNP'), ('데일리안', 'NNP'), ('머니S', 'NNP'), ('여성신문', 'NNP'), ('서울신문', 'NNP'), ('중앙SUNDAY', 'NNP'), ('머니투데이', 'NNP'), ('서울경제', 'NNP'), ('디지털타임스', 'NNP'), ('매일경제', 'NNP'), ('이데일리', 'NNP'), ('일다', 'NNP'), ('시사저널', 'NNP'), ('JTBC', 'NNP'), ('주간경향', 'NNP'), ('더팩트', 'NNP'), ('SBS', 'NNP'), ('한겨레21', 'NNP'), ('스포츠서울', 'NNP'), ('한국경제TV', 'NNP'), ('한국경제', 'NNP'), ('지디넷코리아', 'NNP'), ('기자협회보', 'NNP'), ('TV조선', 'NNP'), ('연합뉴스TV', 'NNP'), ('조선비즈', 'NNP'), ('스포츠조선', 'NNP'), ('시사IN', 'NNP'), ('아이뉴스24', 'NNP'), ('강원일보', 'NNP'), ('엑스포츠뉴스', 'NNP'), ('동아사이언스', 'NNP'), ('스타뉴스', 'NNP'), ('한경비즈니스', 'NNP'), ('MBN', 'NNP'), ('마이데일리', 'NNP'), ('SBS Biz', 'NNP'), ('코메디닷컴', 'NNP'), ('스포츠경향', 'NNP'), ('디지털데일리', 'NNP'), ('이코노미스트', 'NNP')]\n"
     ]
    }
   ],
   "source": [
    "# 주어진 리스트\n",
    "media_list = ['경향신문', '연합뉴스', '뉴시스', '세계일보', '전자신문', '문화일보', '매경이코노미', 'KBS', '뉴스1',\n",
    "              '프레시안', '조선일보', '오마이뉴스', 'MBC', '국민일보', '미디어오늘', '한겨레', '아시아경제', '중앙일보',\n",
    "              '동아일보', '한국일보', '노컷뉴스', '매일신문', '헤럴드경제', '부산일보', 'YTN', '파이낸셜뉴스',\n",
    "              '데일리안', '머니S', '여성신문', '서울신문', '중앙SUNDAY', '머니투데이', '서울경제', '디지털타임스',\n",
    "              '매일경제', '이데일리', '일다', '시사저널', 'JTBC', '주간경향', '더팩트', 'SBS', '한겨레21',\n",
    "              '스포츠서울', '한국경제TV', '한국경제', '지디넷코리아', '기자협회보', 'TV조선', '연합뉴스TV', '조선비즈',\n",
    "              '스포츠조선', '시사IN', '아이뉴스24', '강원일보', '엑스포츠뉴스', '동아사이언스', '스타뉴스', '한경비즈니스',\n",
    "              'MBN', '마이데일리', 'SBS Biz', '코메디닷컴', '스포츠경향', '디지털데일리', '이코노미스트']\n",
    "\n",
    "# 각 항목을 튜플로 변환하고 'NNP'를 고정값으로 추가\n",
    "result = [(item, 'NNP') for item in media_list]\n",
    "\n",
    "# 결과 출력\n",
    "print(result)"
   ]
  },
  {
   "cell_type": "code",
   "execution_count": 9,
   "id": "c3f18af0-2377-477b-b3c7-0730490e2d5b",
   "metadata": {},
   "outputs": [],
   "source": [
    "# Unnamed: 0 컬럼을 drop하여 제거\n",
    "# df.drop(['Unnamed: 0'], axis = 1, inplace = True)\n",
    "# df.head()"
   ]
  }
 ],
 "metadata": {
  "kernelspec": {
   "display_name": "Python 3 (ipykernel)",
   "language": "python",
   "name": "python3"
  },
  "language_info": {
   "codemirror_mode": {
    "name": "ipython",
    "version": 3
   },
   "file_extension": ".py",
   "mimetype": "text/x-python",
   "name": "python",
   "nbconvert_exporter": "python",
   "pygments_lexer": "ipython3",
   "version": "3.12.4"
  }
 },
 "nbformat": 4,
 "nbformat_minor": 5
}
