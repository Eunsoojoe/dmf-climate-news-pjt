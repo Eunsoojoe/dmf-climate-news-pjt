{
 "cells": [
  {
   "cell_type": "code",
   "execution_count": 1,
   "id": "139fb1fc-1659-4073-9d59-087971aadd3d",
   "metadata": {},
   "outputs": [],
   "source": [
    "import os\n",
    "import numpy as np\n",
    "import pandas as pd\n",
    "from kiwipiepy import Kiwi\n",
    "from kiwipiepy.utils import Stopwords\n",
    "from sklearn.feature_extraction.text import CountVectorizer\n",
    "from sklearn.feature_extraction.text import TfidfVectorizer"
   ]
  },
  {
   "cell_type": "code",
   "execution_count": 4,
   "id": "9b7a37ac-d0b1-4266-a7cc-fdefd75114b5",
   "metadata": {},
   "outputs": [
    {
     "data": {
      "text/html": [
       "<div>\n",
       "<style scoped>\n",
       "    .dataframe tbody tr th:only-of-type {\n",
       "        vertical-align: middle;\n",
       "    }\n",
       "\n",
       "    .dataframe tbody tr th {\n",
       "        vertical-align: top;\n",
       "    }\n",
       "\n",
       "    .dataframe thead th {\n",
       "        text-align: right;\n",
       "    }\n",
       "</style>\n",
       "<table border=\"1\" class=\"dataframe\">\n",
       "  <thead>\n",
       "    <tr style=\"text-align: right;\">\n",
       "      <th></th>\n",
       "      <th>media</th>\n",
       "      <th>date</th>\n",
       "      <th>title</th>\n",
       "      <th>body</th>\n",
       "      <th>link</th>\n",
       "      <th>Unnamed: 0</th>\n",
       "    </tr>\n",
       "  </thead>\n",
       "  <tbody>\n",
       "    <tr>\n",
       "      <th>0</th>\n",
       "      <td>경향신문</td>\n",
       "      <td>2015.11.13. 오후 8:59</td>\n",
       "      <td>[책과 삶]기후 위기 외면하는 인류에 보낸 ‘리얼 SF’</td>\n",
       "      <td>ㆍ다가올 역사, 서양 문명의 몰락ㆍ나오미 오레스케스 외 지음·홍한별 옮김갈라파고스 ...</td>\n",
       "      <td>https://n.news.naver.com/mnews/article/032/000...</td>\n",
       "      <td>NaN</td>\n",
       "    </tr>\n",
       "    <tr>\n",
       "      <th>1</th>\n",
       "      <td>연합뉴스</td>\n",
       "      <td>2015.11.29. 오전 11:51</td>\n",
       "      <td>'기후위기 극복을 염원' 기자회견</td>\n",
       "      <td>(서울=연합뉴스) 이재희 기자 = 기후행동2015 관계자들이 29일 오전 서울 중구...</td>\n",
       "      <td>https://n.news.naver.com/mnews/article/001/000...</td>\n",
       "      <td>NaN</td>\n",
       "    </tr>\n",
       "    <tr>\n",
       "      <th>2</th>\n",
       "      <td>연합뉴스</td>\n",
       "      <td>2015.11.29. 오전 11:53</td>\n",
       "      <td>'파리총회의 성공과 기후위기 극복을 염원'</td>\n",
       "      <td>(서울=연합뉴스) 이재희 기자 = 기후행동2015 관계자들이 29일 오전 서울 중구...</td>\n",
       "      <td>https://n.news.naver.com/mnews/article/001/000...</td>\n",
       "      <td>NaN</td>\n",
       "    </tr>\n",
       "    <tr>\n",
       "      <th>3</th>\n",
       "      <td>뉴시스</td>\n",
       "      <td>2015.11.29. 오후 12:07</td>\n",
       "      <td>기후위기 극복을 위한 1000인 선언</td>\n",
       "      <td>【서울=뉴시스】조성봉 기자 = 29일 오전 서울 종로구 베스트웨스턴 뉴서울호텔 세미...</td>\n",
       "      <td>https://n.news.naver.com/mnews/article/003/000...</td>\n",
       "      <td>NaN</td>\n",
       "    </tr>\n",
       "    <tr>\n",
       "      <th>4</th>\n",
       "      <td>뉴시스</td>\n",
       "      <td>2015.11.29. 오후 12:07</td>\n",
       "      <td>이부영,' 기후위기 극복을 위해'</td>\n",
       "      <td>【서울=뉴시스】조성봉 기자 = 29일 오전 서울 종로구 베스트웨스턴 뉴서울호텔 세미...</td>\n",
       "      <td>https://n.news.naver.com/mnews/article/003/000...</td>\n",
       "      <td>NaN</td>\n",
       "    </tr>\n",
       "  </tbody>\n",
       "</table>\n",
       "</div>"
      ],
      "text/plain": [
       "  media                  date                            title  \\\n",
       "0  경향신문   2015.11.13. 오후 8:59  [책과 삶]기후 위기 외면하는 인류에 보낸 ‘리얼 SF’   \n",
       "1  연합뉴스  2015.11.29. 오전 11:51               '기후위기 극복을 염원' 기자회견   \n",
       "2  연합뉴스  2015.11.29. 오전 11:53          '파리총회의 성공과 기후위기 극복을 염원'   \n",
       "3   뉴시스  2015.11.29. 오후 12:07             기후위기 극복을 위한 1000인 선언   \n",
       "4   뉴시스  2015.11.29. 오후 12:07               이부영,' 기후위기 극복을 위해'   \n",
       "\n",
       "                                                body  \\\n",
       "0  ㆍ다가올 역사, 서양 문명의 몰락ㆍ나오미 오레스케스 외 지음·홍한별 옮김갈라파고스 ...   \n",
       "1  (서울=연합뉴스) 이재희 기자 = 기후행동2015 관계자들이 29일 오전 서울 중구...   \n",
       "2  (서울=연합뉴스) 이재희 기자 = 기후행동2015 관계자들이 29일 오전 서울 중구...   \n",
       "3  【서울=뉴시스】조성봉 기자 = 29일 오전 서울 종로구 베스트웨스턴 뉴서울호텔 세미...   \n",
       "4  【서울=뉴시스】조성봉 기자 = 29일 오전 서울 종로구 베스트웨스턴 뉴서울호텔 세미...   \n",
       "\n",
       "                                                link  Unnamed: 0  \n",
       "0  https://n.news.naver.com/mnews/article/032/000...         NaN  \n",
       "1  https://n.news.naver.com/mnews/article/001/000...         NaN  \n",
       "2  https://n.news.naver.com/mnews/article/001/000...         NaN  \n",
       "3  https://n.news.naver.com/mnews/article/003/000...         NaN  \n",
       "4  https://n.news.naver.com/mnews/article/003/000...         NaN  "
      ]
     },
     "execution_count": 4,
     "metadata": {},
     "output_type": "execute_result"
    }
   ],
   "source": [
    "df = pd.read_excel('../input/기후위기_20150701_to_20240630.xlsx')\n",
    "df.head(5)"
   ]
  },
  {
   "cell_type": "code",
   "execution_count": 9,
   "id": "dd007b91-c6ea-4a77-8dc4-f596b30201fe",
   "metadata": {},
   "outputs": [
    {
     "name": "stdout",
     "output_type": "stream",
     "text": [
      "<class 'pandas.core.frame.DataFrame'>\n",
      "RangeIndex: 10831 entries, 0 to 10830\n",
      "Data columns (total 5 columns):\n",
      " #   Column  Non-Null Count  Dtype \n",
      "---  ------  --------------  ----- \n",
      " 0   media   10831 non-null  object\n",
      " 1   date    10831 non-null  object\n",
      " 2   title   10831 non-null  object\n",
      " 3   body    10819 non-null  object\n",
      " 4   link    10831 non-null  object\n",
      "dtypes: object(5)\n",
      "memory usage: 423.2+ KB\n"
     ]
    }
   ],
   "source": [
    "# df = df.drop('Unnamed: 0', axis=1)\n",
    "df.info()"
   ]
  },
  {
   "cell_type": "code",
   "execution_count": 10,
   "id": "a0da3d33-19dc-4f47-bc4a-9c7c4a93abf5",
   "metadata": {},
   "outputs": [
    {
     "data": {
      "text/plain": [
       "media\n",
       "뉴스1       1255\n",
       "연합뉴스       995\n",
       "뉴시스        894\n",
       "경향신문       486\n",
       "아이뉴스24     471\n",
       "          ... \n",
       "월간 산         1\n",
       "일간스포츠        1\n",
       "신동아          1\n",
       "게임메카         1\n",
       "뉴스타파         1\n",
       "Name: count, Length: 91, dtype: int64"
      ]
     },
     "execution_count": 10,
     "metadata": {},
     "output_type": "execute_result"
    }
   ],
   "source": [
    "df['media'].value_counts()"
   ]
  },
  {
   "cell_type": "code",
   "execution_count": 11,
   "id": "e0828076-2430-45f1-b125-d2112e5191cf",
   "metadata": {},
   "outputs": [],
   "source": [
    "# 연도별 자주 나온 키워드\n"
   ]
  },
  {
   "cell_type": "code",
   "execution_count": null,
   "id": "ddf5d89e-82b1-43b7-bec5-3243225ff610",
   "metadata": {},
   "outputs": [],
   "source": []
  }
 ],
 "metadata": {
  "kernelspec": {
   "display_name": "Python 3 (ipykernel)",
   "language": "python",
   "name": "python3"
  },
  "language_info": {
   "codemirror_mode": {
    "name": "ipython",
    "version": 3
   },
   "file_extension": ".py",
   "mimetype": "text/x-python",
   "name": "python",
   "nbconvert_exporter": "python",
   "pygments_lexer": "ipython3",
   "version": "3.12.4"
  }
 },
 "nbformat": 4,
 "nbformat_minor": 5
}
